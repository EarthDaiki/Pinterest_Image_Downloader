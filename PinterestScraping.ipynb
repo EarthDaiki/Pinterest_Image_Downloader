{
 "cells": [
  {
   "attachments": {},
   "cell_type": "markdown",
   "metadata": {},
   "source": [
    "# **Pinterest Image Downloader**"
   ]
  },
  {
   "attachments": {},
   "cell_type": "markdown",
   "metadata": {},
   "source": [
    "## You need to import first\n",
    "## It depends on you computer, but you can install libraries with these codes ↓\n",
    "\n",
    "!pip install bs4 or %pip install bs4 or !pip3 install bs4 or $pip install bs4\n",
    "<br>\n",
    "!pip install requests or %pip install requests or !pip3 install requests or $pip install requests\n",
    "<br>\n",
    "!pip install selenium or %pip install selenium or !pip3 install selenium or $pip install selenium\n",
    "<br>\n",
    "!pip install webdriver_manager or %pip install webdriver_manager or !pip3 install webdriver_manager or $pip install webdriver_manager"
   ]
  },
  {
   "cell_type": "code",
   "execution_count": 2,
   "metadata": {},
   "outputs": [],
   "source": [
    "from bs4 import BeautifulSoup\n",
    "\n",
    "import requests\n",
    "\n",
    "from selenium import webdriver\n",
    "from selenium.webdriver.common.keys import Keys\n",
    "from selenium.webdriver.common.by import By\n",
    "from selenium.webdriver.support.wait import WebDriverWait\n",
    "from selenium.webdriver.support import expected_conditions as EC\n",
    "from selenium.webdriver.common.action_chains import ActionChains\n",
    "\n",
    "from webdriver_manager.chrome import ChromeDriverManager\n",
    "\n",
    "import os\n",
    "\n",
    "from time import sleep\n"
   ]
  },
  {
   "attachments": {},
   "cell_type": "markdown",
   "metadata": {},
   "source": [
    "### You don't need to login to Pinterest. If you login to Pinterest, this code would be broken.\n",
    "### I leave this for just a tip for you!"
   ]
  },
  {
   "cell_type": "code",
   "execution_count": null,
   "metadata": {},
   "outputs": [],
   "source": [
    "# #login\n",
    "# driver = webdriver.Chrome(ChromeDriverManager().install())\n",
    "# driver.get('https://www.pinterest.jp/login/')\n",
    "# email = WebDriverWait(driver, 20).until(EC.element_to_be_clickable((By.CSS_SELECTOR, \"input[autocomplete='email']\")))\n",
    "# password = WebDriverWait(driver, 20).until(EC.element_to_be_clickable((By.CSS_SELECTOR, \"input[autocomplete='new-password']\")))\n",
    "# # accept_all = WebDriverWait(driver, 10).until(EC.element_to_be_clickable((By.XPATH, '//button[contains(text(), \"Accept All\")]'))).click()\n",
    "# email.clear()\n",
    "# password.clear()\n",
    "# email.send_keys(\"earth032514@gmail.com\")\n",
    "# password.send_keys(\"Earth032514\")\n",
    "# button = WebDriverWait(driver, 10).until(EC.element_to_be_clickable((By.CSS_SELECTOR, \"button[type='submit']\"))).click()"
   ]
  },
  {
   "attachments": {},
   "cell_type": "markdown",
   "metadata": {},
   "source": [
    "### You need to assign a url as a \"sample\" and the name of url as a \"keyword\".\n",
    "### You need to assign a url that you want to scrap to the \"sample\"\n",
    "### \"keyword\" will be the name of saved file.\n",
    "> times = 10\n",
    "### means how many images you want to save. You can save about 100 images with times = 10."
   ]
  },
  {
   "cell_type": "code",
   "execution_count": 3,
   "metadata": {},
   "outputs": [],
   "source": [
    "# sample = \"https://www.pinterest.jp/search/pins/?rs=ac&len=2&q=%E3%83%A1%E3%82%AC%E3%83%8D%E5%A5%B3%E5%AD%90&eq=%E3%83%A1%E3%82%AC%E3%83%8D&etslf=9234\"\n",
    "# keyword = \"メガネ女子\"\n",
    "\n",
    "# sample = \"https://www.pinterest.jp/search/pins/?q=%E3%83%A1%E3%82%AC%E3%83%8D%E7%94%B7%E5%AD%90&rs=typed\"\n",
    "# keyword = \"メガネ男子\"\n",
    "\n",
    "sample = \"https://www.pinterest.jp/search/pins/?q=wearing%20glassses%20people&rs=typed\"\n",
    "keyword = \"wearing glassses people\"\n",
    "\n",
    "times = 10"
   ]
  },
  {
   "attachments": {},
   "cell_type": "markdown",
   "metadata": {},
   "source": [
    "### This is the main code!\n",
    "### If you got an error, it may be because of sleep time (sleep()). So you might need to adjust it. You can try to change it to sleep(4) or something like that. sleep() is the time of stop, so sleep(2) means stopping 2 seconds, sleep(4) means stopping 4 seconds...\n",
    "### If it's still an error after you adjust it, you can fix this part.\n",
    "> imgs = driver.find_element(By.ID, 'mweb-unauth-container')\n",
    "### If you can't fix it yourself, you can remove the line.\n",
    "> #imgs = driver.find_element(By.ID, 'mweb-unauth-container')\n",
    "<br>\n",
    "### like this ↑\n",
    "### If you do this, you will save some images that you don't need... But you can fix the error, I think"
   ]
  },
  {
   "cell_type": "code",
   "execution_count": 4,
   "metadata": {},
   "outputs": [
    {
     "name": "stderr",
     "output_type": "stream",
     "text": [
      "/var/folders/6v/cyyj02c11k57z7pwyf527q8m0000gn/T/ipykernel_11767/3918848914.py:4: DeprecationWarning: executable_path has been deprecated, please pass in a Service object\n",
      "  driver = webdriver.Chrome(ChromeDriverManager().install())\n"
     ]
    },
    {
     "name": "stdout",
     "output_type": "stream",
     "text": [
      "https://i.pinimg.com/236x/82/30/36/8230369bfe74546dc8c2fcba72b48eeb.jpg\n",
      "https://i.pinimg.com/236x/1a/d8/fa/1ad8fa089c231ea8e4f887509dc945dd.jpg\n",
      "https://i.pinimg.com/236x/d6/ff/68/d6ff68c4884d8b218b3ac28a894b9a6f.jpg\n",
      "https://i.pinimg.com/236x/38/96/42/389642f9e3424425e26dca83dc21f0b4--wearing-glasses-jokes.jpg\n",
      "https://i.pinimg.com/236x/a8/ce/d3/a8ced3c20ed6eb3b61fcb1008731ebf1.jpg\n",
      "https://i.pinimg.com/236x/ff/54/e7/ff54e7ed56a0893e7e6385241c549174.jpg\n",
      "https://i.pinimg.com/236x/7b/89/57/7b8957eb3d0ca2109c2d83739aac521b.jpg\n",
      "https://i.pinimg.com/236x/b3/0d/5a/b30d5a6041206d171a5f3aa70dde9e90.jpg\n",
      "https://i.pinimg.com/236x/c2/c6/fe/c2c6fe77bec82255a28f10a6f935fb6d.jpg\n",
      "https://i.pinimg.com/236x/6d/b3/d7/6db3d70d48d94f9a48e28367095973bc.jpg\n",
      "https://i.pinimg.com/236x/a4/7b/b8/a47bb823569a6e53d437f37d0ec6391d.jpg\n",
      "https://i.pinimg.com/236x/73/f5/60/73f5604f1c0cb23b835dc33bb8d4298a.jpg\n",
      "https://i.pinimg.com/236x/23/53/65/235365afc67d3cd4c50156be0fb242d9.jpg\n",
      "https://i.pinimg.com/236x/57/46/b9/5746b9d0cbc1a75c9c3cc015a33ac7cb.jpg\n",
      "https://i.pinimg.com/236x/6d/f3/7b/6df37b77319d80dab05ae4c2f1ffe61a.jpg\n",
      "https://i.pinimg.com/236x/d4/2c/49/d42c490f4edbab24ccf7c1f200e3f834--sweet-makeup-clothing-stores-online.jpg\n",
      "https://i.pinimg.com/236x/32/01/72/32017207d0bf9b00a27cd6d5a2a05fbd.jpg\n",
      "https://i.pinimg.com/236x/d6/27/96/d627963589675179bad426f3ff5b391a--tumblr-glasses-funny-funny-tumblr.jpg\n",
      "https://i.pinimg.com/236x/bf/30/a3/bf30a3bb5fdfadd9a520f82d2a2cbc86.jpg\n",
      "https://i.pinimg.com/236x/2b/d4/4f/2bd44f8df4f733e4ae4afdc201a407ca.jpg\n",
      "https://i.pinimg.com/236x/29/74/ef/2974ef86ed8a322dfa8701659949e202.jpg\n",
      "https://i.pinimg.com/236x/c7/a0/38/c7a0386b7626480b6cf7bf53fd50f590.jpg\n",
      "https://i.pinimg.com/236x/15/d1/e0/15d1e0e457e0b6735ea7a10deb8036a5.jpg\n",
      "https://i.pinimg.com/236x/57/5f/6b/575f6bf805a48adc2afd3ff8ec513165.jpg\n",
      "https://i.pinimg.com/236x/07/bb/cd/07bbcd242f4843c26ab0d14d629deeaf.jpg\n",
      "https://i.pinimg.com/236x/b5/d9/0c/b5d90c36f1faed6a423a5255495e2362--happy-couples-older-couples.jpg\n",
      "https://i.pinimg.com/236x/87/03/b7/8703b7a570668678733a338574ef6b61.jpg\n",
      "https://i.pinimg.com/236x/95/2e/f8/952ef88f2746a972d0942335dd0e194c.jpg\n",
      "https://i.pinimg.com/236x/fc/fd/1e/fcfd1ea10c8f578268d97d3363d48ccc--inspiring-people-amazing-people.jpg\n",
      "https://i.pinimg.com/236x/8b/22/b4/8b22b43e658fc6b47f022ca0172c856b.jpg\n",
      "https://i.pinimg.com/236x/98/b8/3d/98b83d30378c55b128b6fc4cd20012d7.jpg\n",
      "https://i.pinimg.com/236x/96/11/90/9611904b04814753e02af689a46e0f99.jpg\n",
      "https://i.pinimg.com/236x/1e/93/d1/1e93d1c78401237d948b2bb89178305e.jpg\n",
      "https://i.pinimg.com/236x/08/ce/9a/08ce9a4eb8fc11947a1c9084c59ad4c0.jpg\n",
      "https://i.pinimg.com/236x/14/7d/95/147d95afaf897476ced531e0d001f845.jpg\n",
      "https://i.pinimg.com/236x/19/90/0b/19900bd1561ff5a630c48f99599055d8.jpg\n",
      "https://i.pinimg.com/236x/92/fb/47/92fb47b914809f35a7fa57cabb61f2a2.jpg\n",
      "https://i.pinimg.com/236x/62/47/de/6247debb3f9deda9210086bd5621f444.jpg\n",
      "https://i.pinimg.com/236x/df/a0/f7/dfa0f70dfdc61e9c7f8842494dc22830--wearing-glasses-funny-messages.jpg\n",
      "https://i.pinimg.com/236x/52/d9/00/52d9009942d79d0673fd6b07654df1ee.jpg\n",
      "https://i.pinimg.com/236x/ec/0c/a5/ec0ca533b25db20e7840680f1194f1aa--makeup-with-glasses-tutorial-makeup-tips-with-glasses.jpg\n",
      "https://i.pinimg.com/236x/80/9e/2c/809e2cc4f4d659fabb54e7ae4eb2bb65--funny-pics-hilarious.jpg\n",
      "https://i.pinimg.com/236x/8c/a3/49/8ca349afbdcd766e57ff3d677b396e86.jpg\n",
      "https://i.pinimg.com/236x/06/46/f5/0646f57bc60d8aa037409ae60bca640a.jpg\n",
      "https://i.pinimg.com/236x/65/1a/17/651a17e1d83b2a63f6a51c9f90c7a90b--glasses-makeup-tutorial-eye-makeup-tutorials.jpg\n",
      "https://i.pinimg.com/236x/0f/09/1e/0f091ec62f5f049ab0e068b7dccba1fc.jpg\n",
      "https://i.pinimg.com/236x/98/92/85/989285019f87039e598576a7046070da.jpg\n",
      "https://i.pinimg.com/236x/30/a3/19/30a319d3a086f739848e42b760a1df14.jpg\n",
      "https://i.pinimg.com/236x/66/df/18/66df18c3242394b0791a575fb73ed449.jpg\n",
      "https://i.pinimg.com/236x/ca/d6/c9/cad6c9d22816528a1d172f9aa85a506d.jpg\n",
      "https://i.pinimg.com/236x/97/7e/f6/977ef6158fb600124d1ba7f5439b06a5.jpg\n",
      "https://i.pinimg.com/236x/3b/87/81/3b87810668a6f8db264afbe9945c1783--ulzzang-fashion-k-fashion.jpg\n",
      "https://i.pinimg.com/236x/74/83/11/7483111fe83165e5f542939b4c2a57c8.jpg\n",
      "https://i.pinimg.com/236x/5a/59/fd/5a59fdf95bb28d4411e6b500f9a6813c.jpg\n",
      "https://i.pinimg.com/236x/e0/2f/d4/e02fd430862543fd1064f41a2dacc8b6--grunge-outfits-grunge-fashion.jpg\n",
      "https://i.pinimg.com/236x/11/ad/69/11ad69b5c18a9fcae22a24563a236551.jpg\n",
      "https://i.pinimg.com/236x/98/d7/be/98d7be87223ce6c7941f34fc32beec37.jpg\n",
      "https://i.pinimg.com/236x/4a/45/52/4a45524e0a5599559086441d095f3b78--cat-eye-glasses-peter-pan-collars.jpg\n",
      "https://i.pinimg.com/236x/a4/ca/15/a4ca150b2c83699cebca203e7e3a8891.jpg\n",
      "https://i.pinimg.com/236x/46/8e/14/468e140739088cf770631e5d4055f061.jpg\n",
      "https://i.pinimg.com/236x/ec/1f/63/ec1f638d3432f9a82b04785e1923a3bc.jpg\n",
      "https://i.pinimg.com/236x/dc/90/6b/dc906bbd99f843b87e94023998800db8.jpg\n",
      "https://i.pinimg.com/236x/2e/14/ad/2e14ad4776b40468c523d3d1d6238a1b.jpg\n",
      "https://i.pinimg.com/236x/78/21/9d/78219d9990e7f7118a1a5743a83c5297.jpg\n",
      "https://i.pinimg.com/236x/a6/6c/dc/a66cdcd0c61aca37aa8b423296159beb.jpg\n",
      "https://i.pinimg.com/236x/85/92/87/859287ae1d05e289d9368f422f47aca3.jpg\n",
      "https://i.pinimg.com/236x/da/f1/2e/daf12e6031c9a96e305e0a9c939cf850--oliver-peoples-attractive-people.jpg\n",
      "https://i.pinimg.com/236x/32/76/f1/3276f117b68d523db99e843e2590db96.jpg\n",
      "https://i.pinimg.com/236x/54/4a/e5/544ae5b31fde9b64f8d39e262c5c3005.jpg\n",
      "https://i.pinimg.com/236x/9e/b3/8a/9eb38ad002a79753b0038892d577f4a1.jpg\n",
      "https://i.pinimg.com/236x/f7/b3/a0/f7b3a0286f84265beb43023cba9354de.jpg\n",
      "https://i.pinimg.com/236x/c8/07/fb/c807fba81186b39ec25ccf25bd634a7a.jpg\n",
      "https://i.pinimg.com/236x/61/be/50/61be507bb664b5de74bd447543f04171--vintage-bathing-suits-vintage-swimsuits.jpg\n",
      "https://i.pinimg.com/236x/69/4c/03/694c03fcc3a576bd4c5a8bae34f7fe96.jpg\n",
      "https://i.pinimg.com/236x/a3/7b/23/a37b23c70103c42c8c0548a8bf698516--mani-pedi-wearing-glasses.jpg\n",
      "https://i.pinimg.com/236x/45/09/7b/45097be8495a97978c14575670153f0a.jpg\n",
      "https://i.pinimg.com/236x/94/47/bc/9447bc920ae610aa5d3faf544cc21241.jpg\n",
      "https://i.pinimg.com/236x/bc/a1/44/bca144db0283e24164528fae68e718c6.jpg\n",
      "https://i.pinimg.com/236x/2a/73/e3/2a73e358f0a060e4c5502a80060e182c.jpg\n",
      "https://i.pinimg.com/236x/e7/7a/17/e77a1749b8becb025f11312d0626650e.jpg\n",
      "https://i.pinimg.com/236x/92/6f/b3/926fb3b16de73bb709afeee79ab31a52--brown-lipstick-glasses.jpg\n",
      "https://i.pinimg.com/236x/22/fd/ff/22fdffe01ad87955ed006108aa1844f0--project-gemini-nasa-photos.jpg\n",
      "https://i.pinimg.com/236x/d3/70/fb/d370fba1ec5b6a61a8abb17a5b0e5919.jpg\n",
      "https://i.pinimg.com/236x/db/8e/38/db8e380d5dba972620ad9de9681e4baf.jpg\n",
      "https://i.pinimg.com/236x/0f/70/36/0f7036a19320d1e5b4e735c9e332d7c8.jpg\n",
      "https://i.pinimg.com/236x/17/3a/3c/173a3cc3634c1a591b7c130d6e55e93e.jpg\n",
      "https://i.pinimg.com/236x/cf/66/eb/cf66eb2e08c86fecaa310e29b02e321d.jpg\n",
      "https://i.pinimg.com/236x/d2/eb/77/d2eb7727ce8985e1767f8dcfc15c9a56.jpg\n",
      "https://i.pinimg.com/236x/8a/e4/17/8ae41701037197ab3ba9008634072ca2.jpg\n",
      "https://i.pinimg.com/236x/c7/e6/a2/c7e6a2f668835133e5f2c72099a47d7f.jpg\n",
      "https://i.pinimg.com/236x/9f/18/99/9f18994acf63456f9a16b16236d8e88e.jpg\n",
      "https://i.pinimg.com/236x/c6/7c/ad/c67cad68ad22dea32edc5381a542009d.jpg\n",
      "https://i.pinimg.com/236x/5e/9e/45/5e9e459cc864e43ec1ec013dfec40158.jpg\n",
      "https://i.pinimg.com/236x/39/ad/1f/39ad1ff8bc679c510165861bec39a377--model-poses-editorial-weird-poses-editorial.jpg\n",
      "https://i.pinimg.com/236x/83/89/e9/8389e901b6bed327b8a80858d4f243d1.jpg\n",
      "https://i.pinimg.com/236x/f6/e7/a4/f6e7a4156098f2457d9ea4d2d8258c03.jpg\n",
      "https://i.pinimg.com/236x/d7/ee/f8/d7eef8a2e01195b1ae0f5d9e4933b465.jpg\n",
      "https://i.pinimg.com/236x/58/46/6b/58466b72891b5695d391890ccf5c3d37.jpg\n",
      "https://i.pinimg.com/236x/ef/73/35/ef73354c867737b70f0e3c8864b49e52.jpg\n"
     ]
    }
   ],
   "source": [
    "img_data_list = []\n",
    "\n",
    "def main():\n",
    "    driver = webdriver.Chrome(ChromeDriverManager().install())\n",
    "    website(driver)\n",
    "    for i in range(times):\n",
    "        getImg(driver)\n",
    "        scroll(driver)\n",
    "    saveImg()\n",
    "\n",
    "def website(driver):\n",
    "    driver.get(sample)\n",
    "\n",
    "def getImg(driver):\n",
    "    sleep(2)\n",
    "    imgs = driver.find_element(By.ID, 'mweb-unauth-container')\n",
    "    imgs = imgs.find_elements(By.TAG_NAME, 'img')\n",
    "    for i, img in enumerate(imgs):\n",
    "        img_data = img.get_attribute('src')\n",
    "        if not img_data in img_data_list:\n",
    "            img_data_list.append(img_data)\n",
    "            print(img_data)\n",
    "\n",
    "def scroll(driver):\n",
    "    last = ''\n",
    "    imgs = driver.find_elements(By.TAG_NAME, 'img')\n",
    "    for i, img in enumerate(imgs):\n",
    "        last = img\n",
    "    actions = ActionChains(driver)\n",
    "    actions.move_to_element(last).perform()\n",
    "\n",
    "def saveImg():\n",
    "    if not os.path.isfile(f'/images/{keyword}'):\n",
    "        os.mkdir(f'./images/{keyword}')\n",
    "    for i, img_data in enumerate(img_data_list):\n",
    "        img_data = requests.get(img_data).content\n",
    "        with open(f'./images/{keyword}/{keyword}{i}.png', 'wb') as new_file:\n",
    "            new_file.write(img_data)\n",
    "\n",
    "if __name__ == \"__main__\":\n",
    "    main()"
   ]
  },
  {
   "attachments": {},
   "cell_type": "markdown",
   "metadata": {},
   "source": [
    "# ENJOY!!"
   ]
  }
 ],
 "metadata": {
  "kernelspec": {
   "display_name": "base",
   "language": "python",
   "name": "python3"
  },
  "language_info": {
   "codemirror_mode": {
    "name": "ipython",
    "version": 3
   },
   "file_extension": ".py",
   "mimetype": "text/x-python",
   "name": "python",
   "nbconvert_exporter": "python",
   "pygments_lexer": "ipython3",
   "version": "3.9.13"
  },
  "orig_nbformat": 4,
  "vscode": {
   "interpreter": {
    "hash": "40d3a090f54c6569ab1632332b64b2c03c39dcf918b08424e98f38b5ae0af88f"
   }
  }
 },
 "nbformat": 4,
 "nbformat_minor": 2
}
