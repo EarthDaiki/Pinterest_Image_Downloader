{
 "cells": [
  {
   "attachments": {},
   "cell_type": "markdown",
   "metadata": {},
   "source": [
    "# **Pinterest Image Downloader**"
   ]
  },
  {
   "attachments": {},
   "cell_type": "markdown",
   "metadata": {},
   "source": [
    "## You need to import first\n",
    "## It depends on you computer, but you can install libraries with these codes ↓\n",
    "\n",
    "!pip install bs4 or %pip install bs4 or !pip3 install bs4 or $pip install bs4\n",
    "<br>\n",
    "!pip install requests or %pip install requests or !pip3 install requests or $pip install requests\n",
    "<br>\n",
    "!pip install selenium or %pip install selenium or !pip3 install selenium or $pip install selenium\n",
    "<br>\n",
    "!pip install webdriver_manager or %pip install webdriver_manager or !pip3 install webdriver_manager or $pip install webdriver_manager"
   ]
  },
  {
   "cell_type": "code",
   "execution_count": 4,
   "metadata": {},
   "outputs": [],
   "source": [
    "from bs4 import BeautifulSoup\n",
    "\n",
    "import requests\n",
    "\n",
    "from selenium import webdriver\n",
    "from selenium.webdriver.common.keys import Keys\n",
    "from selenium.webdriver.common.by import By\n",
    "from selenium.webdriver.support.wait import WebDriverWait\n",
    "from selenium.webdriver.support import expected_conditions as EC\n",
    "from selenium.webdriver.common.action_chains import ActionChains\n",
    "\n",
    "from webdriver_manager.chrome import ChromeDriverManager\n",
    "\n",
    "import os\n",
    "\n",
    "from time import sleep\n"
   ]
  },
  {
   "attachments": {},
   "cell_type": "markdown",
   "metadata": {},
   "source": [
    "### You don't need to login to Pinterest. If you login to Pinterest, this code would be broken.\n",
    "### I leave this for just a tip for you!"
   ]
  },
  {
   "cell_type": "code",
   "execution_count": null,
   "metadata": {},
   "outputs": [],
   "source": [
    "# #login\n",
    "# driver = webdriver.Chrome(ChromeDriverManager().install())\n",
    "# driver.get('https://www.pinterest.jp/login/')\n",
    "# email = WebDriverWait(driver, 20).until(EC.element_to_be_clickable((By.CSS_SELECTOR, \"input[autocomplete='email']\")))\n",
    "# password = WebDriverWait(driver, 20).until(EC.element_to_be_clickable((By.CSS_SELECTOR, \"input[autocomplete='new-password']\")))\n",
    "# # accept_all = WebDriverWait(driver, 10).until(EC.element_to_be_clickable((By.XPATH, '//button[contains(text(), \"Accept All\")]'))).click()\n",
    "# email.clear()\n",
    "# password.clear()\n",
    "# email.send_keys(\"earth032514@gmail.com\")\n",
    "# password.send_keys(\"Earth032514\")\n",
    "# button = WebDriverWait(driver, 10).until(EC.element_to_be_clickable((By.CSS_SELECTOR, \"button[type='submit']\"))).click()"
   ]
  },
  {
   "attachments": {},
   "cell_type": "markdown",
   "metadata": {},
   "source": [
    "### You need to assign a url as a \"sample\" and the name of url as a \"keyword\".\n",
    "### You need to assign a url that you want to scrap to the \"sample\"\n",
    "### \"keyword\" will be the name of saved file.\n",
    "> times = 10\n",
    "### means how many images you want to save. You can save about 86 images with times = 10."
   ]
  },
  {
   "cell_type": "code",
   "execution_count": 5,
   "metadata": {},
   "outputs": [],
   "source": [
    "# sample = \"https://www.pinterest.jp/search/pins/?rs=ac&len=2&q=%E3%83%A1%E3%82%AC%E3%83%8D%E5%A5%B3%E5%AD%90&eq=%E3%83%A1%E3%82%AC%E3%83%8D&etslf=9234\"\n",
    "# keyword = \"メガネ女子\"\n",
    "\n",
    "sample = \"https://www.pinterest.jp/search/pins/?q=%E3%83%A1%E3%82%AC%E3%83%8D%E7%94%B7%E5%AD%90&rs=typed\"\n",
    "keyword = \"メガネ男子\"\n",
    "\n",
    "times = 10"
   ]
  },
  {
   "attachments": {},
   "cell_type": "markdown",
   "metadata": {},
   "source": [
    "### This is the main code!\n",
    "### If you got an error, it may be because of sleep time (sleep()). So you might need to adjust it. You can try to change it to sleep(4) or something like that. sleep() is the time of stop, so sleep(2) means stopping 2 seconds, sleep(4) means stopping 4 seconds...\n",
    "### If it's still an error after you adjust it, you can fix this part.\n",
    "> imgs = driver.find_element(By.ID, 'mweb-unauth-container')\n",
    "### If you can't fix it yourself, you can remove the line.\n",
    "> #imgs = driver.find_element(By.ID, 'mweb-unauth-container')\n",
    "<br>\n",
    "### like this ↑\n",
    "### If you do this, you will save some images that you don't need... But you can fix the error, I think"
   ]
  },
  {
   "cell_type": "code",
   "execution_count": null,
   "metadata": {},
   "outputs": [],
   "source": [
    "img_data_list = []\n",
    "\n",
    "def main():\n",
    "    driver = webdriver.Chrome(ChromeDriverManager().install())\n",
    "    website(driver)\n",
    "    for i in range(times):\n",
    "        getImg(driver)\n",
    "        scroll(driver)\n",
    "    saveImg()\n",
    "\n",
    "def website(driver):\n",
    "    driver.get(sample)\n",
    "\n",
    "def getImg(driver):\n",
    "    sleep(2)\n",
    "    imgs = driver.find_element(By.ID, 'mweb-unauth-container')\n",
    "    imgs = imgs.find_elements(By.TAG_NAME, 'img')\n",
    "    for i, img in enumerate(imgs):\n",
    "        img_data = img.get_attribute('src')\n",
    "        if not img_data in img_data_list:\n",
    "            img_data_list.append(img_data)\n",
    "            print(img_data)\n",
    "\n",
    "def scroll(driver):\n",
    "    last = ''\n",
    "    imgs = driver.find_elements(By.TAG_NAME, 'img')\n",
    "    for i, img in enumerate(imgs):\n",
    "        last = img\n",
    "    actions = ActionChains(driver)\n",
    "    actions.move_to_element(last).perform()\n",
    "\n",
    "def saveImg():\n",
    "    if not os.path.isfile(f'/Users/earth/Desktop/python/images/{keyword}'):\n",
    "        os.mkdir(f'/Users/earth/Desktop/python/images/{keyword}')\n",
    "    for i, img_data in enumerate(img_data_list):\n",
    "        img_data = requests.get(img_data).content\n",
    "        with open(f'/Users/earth/Desktop/python/images/{keyword}/{keyword}{i}.png', 'wb') as new_file:\n",
    "            new_file.write(img_data)\n",
    "\n",
    "if __name__ == \"__main__\":\n",
    "    main()"
   ]
  },
  {
   "attachments": {},
   "cell_type": "markdown",
   "metadata": {},
   "source": [
    "# ENJOY!!"
   ]
  }
 ],
 "metadata": {
  "kernelspec": {
   "display_name": "base",
   "language": "python",
   "name": "python3"
  },
  "language_info": {
   "codemirror_mode": {
    "name": "ipython",
    "version": 3
   },
   "file_extension": ".py",
   "mimetype": "text/x-python",
   "name": "python",
   "nbconvert_exporter": "python",
   "pygments_lexer": "ipython3",
   "version": "3.9.13"
  },
  "orig_nbformat": 4,
  "vscode": {
   "interpreter": {
    "hash": "40d3a090f54c6569ab1632332b64b2c03c39dcf918b08424e98f38b5ae0af88f"
   }
  }
 },
 "nbformat": 4,
 "nbformat_minor": 2
}
