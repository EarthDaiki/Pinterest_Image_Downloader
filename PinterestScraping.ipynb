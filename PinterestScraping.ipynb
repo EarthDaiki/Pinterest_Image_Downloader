{
 "cells": [
  {
   "attachments": {},
   "cell_type": "markdown",
   "metadata": {},
   "source": [
    "# **Pinterest Image Downloader**"
   ]
  },
  {
   "attachments": {},
   "cell_type": "markdown",
   "metadata": {},
   "source": [
    "## You need to import first\n",
    "## It depends on you computer, but you can install libraries with these codes ↓\n",
    "\n",
    "!pip install bs4 or %pip install bs4 or !pip3 install bs4 or $pip install bs4\n",
    "<br>\n",
    "!pip install requests or %pip install requests or !pip3 install requests or $pip install requests\n",
    "<br>\n",
    "!pip install selenium or %pip install selenium or !pip3 install selenium or $pip install selenium\n",
    "<br>\n",
    "!pip install webdriver_manager or %pip install webdriver_manager or !pip3 install webdriver_manager or $pip install webdriver_manager"
   ]
  },
  {
   "cell_type": "code",
   "execution_count": 2,
   "metadata": {},
   "outputs": [],
   "source": [
    "from bs4 import BeautifulSoup\n",
    "\n",
    "import requests\n",
    "\n",
    "from selenium import webdriver\n",
    "from selenium.webdriver.common.keys import Keys\n",
    "from selenium.webdriver.common.by import By\n",
    "from selenium.webdriver.support.wait import WebDriverWait\n",
    "from selenium.webdriver.support import expected_conditions as EC\n",
    "from selenium.webdriver.common.action_chains import ActionChains\n",
    "\n",
    "from webdriver_manager.chrome import ChromeDriverManager\n",
    "\n",
    "import os\n",
    "\n",
    "from time import sleep\n"
   ]
  },
  {
   "attachments": {},
   "cell_type": "markdown",
   "metadata": {},
   "source": [
    "### You don't need to login to Pinterest. If you login to Pinterest, this code would be broken.\n",
    "### I leave this for just a tip for you!"
   ]
  },
  {
   "cell_type": "code",
   "execution_count": null,
   "metadata": {},
   "outputs": [],
   "source": [
    "# #login\n",
    "# driver = webdriver.Chrome(ChromeDriverManager().install())\n",
    "# driver.get('https://www.pinterest.jp/login/')\n",
    "# email = WebDriverWait(driver, 20).until(EC.element_to_be_clickable((By.CSS_SELECTOR, \"input[autocomplete='email']\")))\n",
    "# password = WebDriverWait(driver, 20).until(EC.element_to_be_clickable((By.CSS_SELECTOR, \"input[autocomplete='new-password']\")))\n",
    "# # accept_all = WebDriverWait(driver, 10).until(EC.element_to_be_clickable((By.XPATH, '//button[contains(text(), \"Accept All\")]'))).click()\n",
    "# email.clear()\n",
    "# password.clear()\n",
    "# email.send_keys(\"your email\")\n",
    "# password.send_keys(\"your password\")\n",
    "# button = WebDriverWait(driver, 10).until(EC.element_to_be_clickable((By.CSS_SELECTOR, \"button[type='submit']\"))).click()"
   ]
  },
  {
   "attachments": {},
   "cell_type": "markdown",
   "metadata": {},
   "source": [
    "### You need to assign a url as a \"sample\" and the name of url as a \"keyword\".\n",
    "### You need to assign a url that you want to scrap to the \"sample\"\n",
    "### \"keyword\" will be the name of saved file.\n",
    "> times = 10\n",
    "### means how many images you want to save. You can save about 100 images with times = 10."
   ]
  },
  {
   "cell_type": "code",
   "execution_count": 3,
   "metadata": {},
   "outputs": [],
   "source": [
    "# sample = \"https://www.pinterest.jp/search/pins/?rs=ac&len=2&q=%E3%83%A1%E3%82%AC%E3%83%8D%E5%A5%B3%E5%AD%90&eq=%E3%83%A1%E3%82%AC%E3%83%8D&etslf=9234\"\n",
    "# keyword = \"メガネ女子\"\n",
    "\n",
    "# sample = \"https://www.pinterest.jp/search/pins/?q=%E3%83%A1%E3%82%AC%E3%83%8D%E7%94%B7%E5%AD%90&rs=typed\"\n",
    "# keyword = \"メガネ男子\"\n",
    "\n",
    "# sample = \"hhttps://www.pinterest.jp/search/pins/?q=wearing%20glassses&rs=typed\"\n",
    "# keyword = \"wearing glassses\"\n",
    "\n",
    "sample = \"https://www.pinterest.jp/search/pins/?rs=ac&len=2&q=glasses%20trends&eq=glasses&etslf=7387\"\n",
    "keyword = \"glasses_trends\"\n",
    "\n",
    "times = 10"
   ]
  },
  {
   "attachments": {},
   "cell_type": "markdown",
   "metadata": {},
   "source": [
    "### This is the main code!\n",
    "### If you got an error, it may be because of sleep time (sleep()). So you might need to adjust it. You can try to change it to sleep(4) or something like that. sleep() is the time of stop, so sleep(2) means stopping 2 seconds, sleep(4) means stopping 4 seconds...\n",
    "### If it's still an error after you adjust it, you can fix this part.\n",
    "> imgs = driver.find_element(By.ID, 'mweb-unauth-container')\n",
    "### If you can't fix it yourself, you can remove the line.\n",
    "> #imgs = driver.find_element(By.ID, 'mweb-unauth-container')\n",
    "<br>\n",
    "### like this ↑\n",
    "### If you do this, you will save some images that you don't need... But you can fix the error, I think"
   ]
  },
  {
   "cell_type": "code",
   "execution_count": 15,
   "metadata": {},
   "outputs": [
    {
     "name": "stderr",
     "output_type": "stream",
     "text": [
      "/var/folders/6v/cyyj02c11k57z7pwyf527q8m0000gn/T/ipykernel_15993/774323500.py:4: DeprecationWarning: executable_path has been deprecated, please pass in a Service object\n",
      "  driver = webdriver.Chrome(ChromeDriverManager().install())\n"
     ]
    },
    {
     "name": "stdout",
     "output_type": "stream",
     "text": [
      "https://i.pinimg.com/236x/b6/1c/37/b61c37c9f2c1e24a8d059ddd60599ce4.jpg\n",
      "https://i.pinimg.com/236x/4a/c4/9a/4ac49ae5db78c8bbb01325f9e6aa6e04.jpg\n",
      "https://i.pinimg.com/236x/ed/1a/c7/ed1ac73906683a876549f3186872edc8.jpg\n",
      "https://i.pinimg.com/236x/e1/6d/0b/e16d0b4f45b198197060a9880282b6d5.jpg\n",
      "https://i.pinimg.com/236x/e7/ef/7a/e7ef7a2ff6d3c4aa1788b8f489314fc5.jpg\n",
      "https://i.pinimg.com/236x/13/a0/d2/13a0d21324f5fee7fdc1ad87c40df131.jpg\n",
      "https://i.pinimg.com/236x/df/ae/54/dfae544239a12e4070872ec21d7240ca.jpg\n",
      "https://i.pinimg.com/236x/47/40/82/47408230d6a2a25b2433ffef3f03ceb1.jpg\n",
      "https://i.pinimg.com/236x/91/c2/70/91c2706327b002cac67ac462a9ef41e1.jpg\n",
      "https://i.pinimg.com/236x/b5/68/c7/b568c7292972bc93d8ec96fd0f7d3ca9.jpg\n",
      "https://i.pinimg.com/236x/ae/47/53/ae4753fda433f7021f2548e37be5a74a.jpg\n",
      "https://i.pinimg.com/236x/12/26/68/122668addc1245d9b7876a5bf347048e.jpg\n",
      "https://i.pinimg.com/236x/55/c7/f3/55c7f3eb4a3694408c055ce3096a7d45.jpg\n",
      "https://i.pinimg.com/236x/01/38/ea/0138ea4ae34e2c49846631c2c3a28912.jpg\n",
      "https://i.pinimg.com/236x/f8/e9/0d/f8e90dc8e8555f8ad760368628888f78.jpg\n",
      "https://i.pinimg.com/236x/93/64/da/9364da96ac7c6d49939994c51205283f.jpg\n",
      "https://i.pinimg.com/236x/89/16/29/891629dad3e9cc28a8c98aaea6dee1f0.jpg\n",
      "https://i.pinimg.com/236x/90/d0/52/90d0522b1295cf32e9450a02c9a6ddea.jpg\n",
      "https://i.pinimg.com/236x/80/85/28/808528a2f591f3a751cc9de8aad15f66.jpg\n",
      "https://i.pinimg.com/236x/6d/f1/fd/6df1fdebaabc32142a9d4f7747e1935f.jpg\n",
      "https://i.pinimg.com/236x/6b/3c/cf/6b3ccf03e490b459597baf5d6c6f38b0.jpg\n",
      "https://i.pinimg.com/236x/c3/2b/55/c32b552d1f2a3e686370dca7679d0210.jpg\n",
      "https://i.pinimg.com/236x/13/94/4c/13944c7f036595904e1312ef03e1a028.jpg\n",
      "https://i.pinimg.com/236x/06/44/cf/0644cf6d01490819581cf392e630bbc7.jpg\n",
      "https://i.pinimg.com/236x/5a/1f/e3/5a1fe3f1c55086349fd84c7a68672f7d.jpg\n",
      "https://i.pinimg.com/236x/ee/45/29/ee452993775e4c1b21bc1d92802726f4.jpg\n",
      "https://i.pinimg.com/236x/e7/5d/27/e75d2783e85d61486650d74aebad4e77.jpg\n",
      "https://i.pinimg.com/236x/16/7c/90/167c902bbdd77f20e31da935f02842eb.jpg\n",
      "https://i.pinimg.com/236x/da/06/c8/da06c80800725c6e769b5fd74db9ded2.jpg\n",
      "https://i.pinimg.com/236x/45/3d/b5/453db51e70bac0a6bed96dda2b18a4e0.jpg\n",
      "https://i.pinimg.com/236x/a6/70/6e/a6706e9b39bdba5e23afeb43a9d82667.jpg\n",
      "https://i.pinimg.com/236x/d3/be/0e/d3be0e65b6a438a933f81211837a8c3a.jpg\n",
      "https://i.pinimg.com/236x/42/da/f7/42daf76e76160bfbcb0979f7167494dc.jpg\n",
      "https://i.pinimg.com/236x/65/7f/21/657f2192ead9ab4f71f27832341e4380.jpg\n",
      "https://i.pinimg.com/236x/56/c4/1c/56c41c0b51ba26ee1896a765e95c95cf.jpg\n",
      "https://i.pinimg.com/236x/5e/e1/4b/5ee14baf1ccc663422a0f340c9efae00.jpg\n",
      "https://i.pinimg.com/236x/06/cd/72/06cd72c43e1348dd820e5e12c7bb940d.jpg\n",
      "https://i.pinimg.com/236x/9d/79/8c/9d798c4be1afee5a368ff4dcdb7f74fa.jpg\n",
      "https://i.pinimg.com/236x/83/4c/08/834c0898507df314c5a48279fc353adb.jpg\n",
      "https://i.pinimg.com/236x/7e/19/c9/7e19c9ccdcf52249c477c6508646b19a.jpg\n",
      "https://i.pinimg.com/236x/2f/f6/68/2ff668fa2b8f494b5cff23d7afa7931c.jpg\n",
      "https://i.pinimg.com/236x/ed/2f/51/ed2f5190472c58c9391acb14728fe50d.jpg\n",
      "https://i.pinimg.com/236x/6d/5a/69/6d5a69214de6e6ae8f8eac0a7da0452e.jpg\n",
      "https://i.pinimg.com/236x/fb/45/dc/fb45dcd7f0da4dfc2272f48c4983d94b.jpg\n",
      "https://i.pinimg.com/236x/2d/8f/25/2d8f252de43af8d8fb2b50d7197dfdcf.jpg\n",
      "https://i.pinimg.com/236x/cc/6c/3b/cc6c3b67956870a441ab073d5e61f138.jpg\n",
      "https://i.pinimg.com/236x/67/07/3e/67073e9e3a2b2ad96507d4af2cbdb742.jpg\n",
      "https://i.pinimg.com/236x/64/74/80/6474800fb7ba3874ef025fd27c191177.jpg\n",
      "https://i.pinimg.com/236x/57/d4/91/57d4919dbfb45d690b8d24f36c08d25f.jpg\n",
      "https://i.pinimg.com/236x/7b/c5/f5/7bc5f582e0398721763bcab87d95c16a.jpg\n",
      "https://i.pinimg.com/236x/8d/d0/58/8dd058cddde1abc20cfefdd1d147a74d.jpg\n",
      "https://i.pinimg.com/236x/5f/ad/6b/5fad6bee9f16f8b9ff4b527489ede78c.jpg\n",
      "https://i.pinimg.com/236x/e5/ba/43/e5ba430dbb9ade28f3f984b6edfa8b0d.jpg\n",
      "https://i.pinimg.com/236x/2d/0e/8a/2d0e8ab24902b7bfca8b5151977b0bec.jpg\n",
      "https://i.pinimg.com/236x/9a/ac/42/9aac4222aff320d9bb2f2fc90f16ce2a.jpg\n",
      "https://i.pinimg.com/236x/8c/55/d5/8c55d56eec95ebbf584a263967cdaf30.jpg\n",
      "https://i.pinimg.com/236x/03/f0/23/03f0236f5dc9b42aa72a43d2480df240.jpg\n",
      "https://i.pinimg.com/236x/f9/f4/f7/f9f4f76627c6a736997565fb75c89180.jpg\n",
      "https://i.pinimg.com/236x/2a/fa/c2/2afac2b9e29d9cdcfd9de390daa3e13d.jpg\n",
      "https://i.pinimg.com/236x/50/a0/07/50a0077609a2fc4a6fb4bbc6dacca11c.jpg\n",
      "https://i.pinimg.com/236x/b5/0a/e7/b50ae765d1c2b6668db1e9583b0139a8.jpg\n",
      "https://i.pinimg.com/236x/28/37/70/283770327734d122da16c31f64da0a29.jpg\n",
      "https://i.pinimg.com/236x/a4/88/6f/a4886f373ad1a0ab7485fa1eddb8a498.jpg\n",
      "https://i.pinimg.com/236x/2f/1a/8b/2f1a8b9a65b9934600ad359e0c64348e.jpg\n",
      "https://i.pinimg.com/236x/27/76/0c/27760c36bdd458a2e923c3e46387401f.jpg\n",
      "https://i.pinimg.com/236x/cd/1e/09/cd1e09a35861171ecf3625633b1d7e3a.jpg\n",
      "https://i.pinimg.com/236x/04/36/e6/0436e6e63936925fb33645d69bd7fa0e.jpg\n",
      "https://i.pinimg.com/236x/72/41/af/7241af40bdca98f4c62c8b24e3e71d24.jpg\n",
      "https://i.pinimg.com/236x/d0/fc/df/d0fcdf3c64e2d7b8d2c47d035ad454ec.jpg\n",
      "https://i.pinimg.com/236x/41/af/00/41af00d9cb305ecdaa093721bbec35ca.jpg\n",
      "https://i.pinimg.com/236x/4d/8f/15/4d8f155e79aad85a3abdf1069ea225bf.jpg\n",
      "https://i.pinimg.com/236x/3a/74/80/3a7480c9aac04f104fc0ac797ae3d3f8.jpg\n",
      "https://i.pinimg.com/236x/3a/1e/55/3a1e554a0cfd9a1c9e75625b4b43fad7.jpg\n",
      "https://i.pinimg.com/236x/50/e2/c8/50e2c89dde7c3b1bf40be52c50e4d6e6.jpg\n",
      "https://i.pinimg.com/236x/9f/45/ad/9f45ad31817244a3f93fa736f720c6a4.jpg\n",
      "https://i.pinimg.com/236x/51/16/4a/51164a8c65d28f296ef610af83750bf9.jpg\n",
      "https://i.pinimg.com/236x/60/4d/6d/604d6d6aa9eeb29270c5b8f23c7b5e16.jpg\n",
      "https://i.pinimg.com/236x/10/b8/6a/10b86aaff87b6ff487a6349dc684baa3.jpg\n",
      "https://i.pinimg.com/236x/46/85/68/4685683e5b1dc54799612d7f458f04a6.jpg\n",
      "https://i.pinimg.com/236x/23/2e/b8/232eb872be29b624b6a0f15d2fbb81fe.jpg\n",
      "https://i.pinimg.com/236x/9c/ad/4f/9cad4fc82bf0e0582e3fbd938a1f8684.jpg\n",
      "https://i.pinimg.com/236x/03/9d/5c/039d5c2837d0f085cbfa8f10994ab3a8.jpg\n",
      "https://i.pinimg.com/236x/43/6b/7a/436b7a6a32e7e6a589d502c2ad28fc4b.jpg\n",
      "https://i.pinimg.com/236x/59/50/41/595041dd7734f50a5bafe0f7fc50ba2e.jpg\n",
      "https://i.pinimg.com/236x/db/d2/28/dbd2289ec03ccbfe305492549d5624b0.jpg\n",
      "https://i.pinimg.com/236x/6e/78/c0/6e78c00130e043e52b97843254e187cd.jpg\n",
      "https://i.pinimg.com/236x/55/34/c6/5534c611d7f17bcf5c2be879d0e084e4.jpg\n",
      "https://i.pinimg.com/236x/b9/e7/8e/b9e78ed3232ac38cc1b820cfd6d81285.jpg\n"
     ]
    }
   ],
   "source": [
    "img_data_list = []\n",
    "\n",
    "def main():\n",
    "    driver = webdriver.Chrome(ChromeDriverManager().install())\n",
    "    website(driver)\n",
    "    for i in range(times):\n",
    "        getImg(driver)\n",
    "        scroll(driver)\n",
    "    saveImg()\n",
    "\n",
    "def website(driver):\n",
    "    driver.get(sample)\n",
    "\n",
    "def getImg(driver):\n",
    "    sleep(2)\n",
    "    imgs = driver.find_element(By.ID, 'mweb-unauth-container')\n",
    "    imgs = imgs.find_elements(By.TAG_NAME, 'img')\n",
    "    for i, img in enumerate(imgs):\n",
    "        sleep(0.1)\n",
    "        img_data = img.get_attribute('src')\n",
    "        if not img_data in img_data_list:\n",
    "            img_data_list.append(img_data)\n",
    "            print(img_data)\n",
    "\n",
    "def scroll(driver):\n",
    "    last = ''\n",
    "    imgs = driver.find_elements(By.TAG_NAME, 'img')\n",
    "    for i, img in enumerate(imgs):\n",
    "        last = img\n",
    "    actions = ActionChains(driver)\n",
    "    actions.move_to_element(last).perform()\n",
    "\n",
    "def saveImg():\n",
    "    if not os.path.isfile(f'./images/{keyword}'):\n",
    "        os.mkdir(f'./images/{keyword}')\n",
    "    for i, img_data in enumerate(img_data_list):\n",
    "        img_data = requests.get(img_data).content\n",
    "        with open(f'./images/{keyword}/{keyword}{i}.png', 'wb') as new_file:\n",
    "            new_file.write(img_data)\n",
    "\n",
    "if __name__ == \"__main__\":\n",
    "    main()"
   ]
  },
  {
   "attachments": {},
   "cell_type": "markdown",
   "metadata": {},
   "source": [
    "# ENJOY!!"
   ]
  }
 ],
 "metadata": {
  "kernelspec": {
   "display_name": "base",
   "language": "python",
   "name": "python3"
  },
  "language_info": {
   "codemirror_mode": {
    "name": "ipython",
    "version": 3
   },
   "file_extension": ".py",
   "mimetype": "text/x-python",
   "name": "python",
   "nbconvert_exporter": "python",
   "pygments_lexer": "ipython3",
   "version": "3.9.13"
  },
  "orig_nbformat": 4,
  "vscode": {
   "interpreter": {
    "hash": "40d3a090f54c6569ab1632332b64b2c03c39dcf918b08424e98f38b5ae0af88f"
   }
  }
 },
 "nbformat": 4,
 "nbformat_minor": 2
}
